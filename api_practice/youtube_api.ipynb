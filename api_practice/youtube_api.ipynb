{
 "metadata": {
  "language_info": {
   "codemirror_mode": {
    "name": "ipython",
    "version": 3
   },
   "file_extension": ".py",
   "mimetype": "text/x-python",
   "name": "python",
   "nbconvert_exporter": "python",
   "pygments_lexer": "ipython3",
   "version": "3.10.4-final"
  },
  "orig_nbformat": 2,
  "kernelspec": {
   "name": "python3",
   "display_name": "Python 3.10.4 64-bit",
   "metadata": {
    "interpreter": {
     "hash": "8bffaa356cdbcace42dcdb8c59534ff36949d0fbda2459df6bad92c25c0f79f0"
    }
   }
  }
 },
 "nbformat": 4,
 "nbformat_minor": 2,
 "cells": [
  {
   "cell_type": "code",
   "execution_count": 4,
   "metadata": {},
   "outputs": [],
   "source": [
    "# import libraries\n",
    "import requests\n",
    "import pandas as pd\n",
    "import time"
   ]
  },
  {
   "cell_type": "code",
   "execution_count": 40,
   "metadata": {},
   "outputs": [],
   "source": [
    "#Keys\n",
    "API_KEY = \"---\"\n",
    "CHANNEL_ID = \"---\""
   ]
  },
  {
   "cell_type": "code",
   "execution_count": 87,
   "metadata": {},
   "outputs": [],
   "source": [
    "#make API call\n",
    "pageToken = \"\"\n",
    "url = \"https://www.googleapis.com/youtube/v3/search?key=\"+API_KEY+\"&channelID=\"+CHANNEL_ID+\"&part=snippet,id&order=date&maxResults=20\"+pageToken\n",
    "\n",
    "response = requests.get(url).json()"
   ]
  },
  {
   "cell_type": "code",
   "execution_count": 88,
   "metadata": {},
   "outputs": [
    {
     "output_type": "execute_result",
     "data": {
      "text/plain": [
       "{'error': {'code': 400,\n",
       "  'message': 'Request contains an invalid argument.',\n",
       "  'errors': [{'message': 'Request contains an invalid argument.',\n",
       "    'domain': 'global',\n",
       "    'reason': 'badRequest'}],\n",
       "  'status': 'INVALID_ARGUMENT'}}"
      ]
     },
     "metadata": {},
     "execution_count": 88
    }
   ],
   "source": [
    "response"
   ]
  },
  {
   "cell_type": "code",
   "execution_count": 68,
   "metadata": {},
   "outputs": [
    {
     "output_type": "execute_result",
     "data": {
      "text/plain": [
       "{'kind': 'youtube#searchResult',\n",
       " 'etag': 'r_SjWpjUrJFVNdGylGzbkcTP3IQ',\n",
       " 'id': {'kind': 'youtube#video', 'videoId': 'OjEriAixkyM'},\n",
       " 'snippet': {'publishedAt': '2022-05-11T22:30:44Z',\n",
       "  'channelId': 'UCkBS_xU1WQ7FVsDoQ_OPeDg',\n",
       "  'title': 'Chicago First Alert Weather: Another day of hot temps ahead',\n",
       "  'description': \"CBS 2 Chief Meteorologist Albert Ramon with Chicago's full forecast.\",\n",
       "  'thumbnails': {'default': {'url': 'https://i.ytimg.com/vi/OjEriAixkyM/default.jpg',\n",
       "    'width': 120,\n",
       "    'height': 90},\n",
       "   'medium': {'url': 'https://i.ytimg.com/vi/OjEriAixkyM/mqdefault.jpg',\n",
       "    'width': 320,\n",
       "    'height': 180},\n",
       "   'high': {'url': 'https://i.ytimg.com/vi/OjEriAixkyM/hqdefault.jpg',\n",
       "    'width': 480,\n",
       "    'height': 360}},\n",
       "  'channelTitle': 'CBS Chicago',\n",
       "  'liveBroadcastContent': 'none',\n",
       "  'publishTime': '2022-05-11T22:30:44Z'}}"
      ]
     },
     "metadata": {},
     "execution_count": 68
    }
   ],
   "source": [
    "response['items'][0]"
   ]
  },
  {
   "cell_type": "code",
   "execution_count": 86,
   "metadata": {},
   "outputs": [
    {
     "output_type": "stream",
     "name": "stdout",
     "text": [
      "OjEriAixkyM\nChicago First Alert Weather: Another day of hot temps ahead\n2022-05-11\nRDxnxRBNiw0\n추경 편성 첫 국무회의…박진 · 이상민, 장관 임명할 듯 / SBS\n2022-05-11\n-b0O4L1xXMI\nComo fazer POSTER ANIMADO COM TEXTURA DE PAPEL no AFTER EFFECTS!\n2022-05-11\nfXcHgrumJLA\nΟι δηλώσεις των τεσσάρων υποψήφιων προς αποχώρηση | Survivor | 11/05/2022\n2022-05-11\nGo9thquHhos\nBOCA VENCIÓ A DEFENSA Y LA GENTE DELIRÓ EN LA BOMBONERA 🔥 CARGADAS A RIVER, TRIBUNAS, COLORES Y MÁS⚽\n2022-05-11\ncgnp7P4Et9M\nArd Releases His Limiters | Reborn as a Typical Nobody\n2022-05-11\npy5LAVRostw\n17-year-old student shot near Queens high school\n2022-05-11\nAhmphArsIZs\nتبون يعيد الجنرال مجدوب وإنهاء مهام قياديين بارزين بالمخابرات الجزائرية مرتبطة بوقائع خطيرة\n2022-05-11\n-7OL2lwjXUo\nCustomer States Engine Has A BAD Knock After It Ran Out Of Oil Twice | Just Rolled In\n2022-05-11\nU82UYScTrGE\nBENIJU ENSEÑA SU SETUP Y SUBE A 7000 COPAS 😎\n2022-05-11\nAZxRf-6lkpw\nLAST TO GET HIT WINS CASH PRIZE!!\n2022-05-11\n-tZ9SerVMgg\nImran Khan Biggest Jalsa Ever in History | PTI Power Show And Public Reaction | Fiza Akbar Khan\n2022-05-11\nhpj3ABwTJ18\nZoo Pet - Kids Funny Stories at Playground - Maya and Mary\n2022-05-11\nQaUfl-TtSp0\n청와대 개방 하루 만에...방문객 난동으로 불전함 훼손 / YTN\n2022-05-11\nZrQsLmn3EGw\nINFIDELES - Saison 3 - Episode 10  ** VOSTFR  **\n2022-05-11\nw_MZk3F4SGw\n【切り抜き】釈迦さんのノンデリ発言に騒ぐ葛葉とk4senさん【葛葉/k4sen/釈迦/北小路ヒスイ/にじさんじ切り抜き】\n2022-05-11\nLtbLFgRyVmQ\nNos Encontramos Con Poppy ⚠️ | POPPY PLAYTIME 2 (PARTE 2) - Cuadradito y Circulito\n2022-05-11\nLrtj_d7gVIo\nАзовсталь и намёки Арестовича. Почему в Украине усиливается критика Зеленского\n2022-05-11\nAEtpbCS-zOU\nSurviving the WORLDS Largest VS Smallest House!\n2022-05-11\nLx0EPHbL2yo\nOsman Bey, kaleyi alevli güllelerle vuruyor! - @Kuruluş Osman 93. Bölüm\n2022-05-11\n"
     ]
    }
   ],
   "source": [
    "for video in response[\"items\"]:\n",
    "    if video['id']['kind'] == 'youtube#video':\n",
    "\n",
    "        video_id = video['id']['videoId']\n",
    "        video_title = video['snippet']['title']\n",
    "        video_title = str(video_title).replace(\"&#39;\", \"\")\n",
    "        upload_date = video[\"snippet\"][\"publishedAt\"]\n",
    "        upload_date = str(upload_date).split(\"T\")[0]\n",
    "\n",
    "        print(video_id)\n",
    "        print(video_title)\n",
    "        print(upload_date)"
   ]
  },
  {
   "cell_type": "code",
   "execution_count": null,
   "metadata": {},
   "outputs": [],
   "source": []
  }
 ]
}