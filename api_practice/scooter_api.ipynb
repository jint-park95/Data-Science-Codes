{
 "cells": [
  {
   "cell_type": "markdown",
   "metadata": {},
   "source": [
    "Source: https://github.com/dsgermain/gbfs/blob/f76251ad4c754b62defc42562887724f287b73ea/gbfs.md#file-requirements"
   ]
  },
  {
   "cell_type": "code",
   "execution_count": 3,
   "metadata": {},
   "outputs": [],
   "source": [
    "# import libraries\n",
    "import requests\n",
    "import pandas as pd\n",
    "import datetime \n",
    "from google.cloud import bigquery\n",
    "from google.oauth2 import service_account\n",
    "import pytz\n",
    "import time"
   ]
  },
  {
   "cell_type": "code",
   "execution_count": 10,
   "metadata": {},
   "outputs": [],
   "source": [
    "def get_scooter_df(url=\"https://mds.linkyour.city/gbfs/us_tx_austin/gbfs.json\"):\n",
    "    ''' Collect scooter status and location data and return it as a dataframe'''\n",
    "    \n",
    "    # empty strings get list of urls\n",
    "    name_list = []\n",
    "    url_list = []\n",
    "\n",
    "    # get response from url\n",
    "    response = requests.get(url).json()\n",
    "    time.sleep(1)\n",
    "\n",
    "    for i in response['data']['en']['feeds']:\n",
    "        name_list.append(i['name'])\n",
    "        url_list.append(i['url'])\n",
    "\n",
    "    url_df = pd.DataFrame({'name' : name_list, 'url' : url_list})\n",
    "\n",
    "    try: \n",
    "        fbs_url = url_df.loc[url_df['name'] == 'free_bike_status']['url'].values[0]\n",
    "    except IndexError:\n",
    "        print(f\"ERROR: free_bike_status file does not exist for the url: {url}\")\n",
    "    else:\n",
    "        fbs_url = fbs_url.replace(\"'\", \"\")\n",
    "        fbs_response = requests.get(fbs_url).json()\n",
    "    \n",
    "        bike_dict = fbs_response['data']['bikes']\n",
    "        bike_df = pd.DataFrame.from_dict(bike_dict)\n",
    "\n",
    "        last_updated = datetime.datetime.fromtimestamp(int(fbs_response['last_updated'])).strftime('%Y-%m-%d %H:%M:%S')\n",
    "        bike_df['last_updated'] = last_updated\n",
    "\n",
    "        print(f\"Data last updated : {last_updated}\")\n",
    "        print(f\"Dataframe contains {bike_df.shape[0]} rows and {bike_df.shape[1]} columns\")\n",
    "\n",
    "    return bike_df"
   ]
  },
  {
   "cell_type": "code",
   "execution_count": 11,
   "metadata": {},
   "outputs": [
    {
     "name": "stdout",
     "output_type": "stream",
     "text": [
      "Data last updated : 2022-06-26 15:15:39\n",
      "Dataframe contains 952 rows and 8 columns\n"
     ]
    }
   ],
   "source": [
    "bike_df = get_scooter_df()"
   ]
  },
  {
   "cell_type": "code",
   "execution_count": 15,
   "metadata": {},
   "outputs": [],
   "source": [
    "\n",
    "def upload_df_to_bigquery(path=r'C:\\Users\\jintp\\Documents\\GitHub\\Data-Science-Codes\\api_practice\\auth\\bikeshare_analytics_bq.json',\\\n",
    "    table=bike_df,\\\n",
    "    table_id='jintaepark-portoflio-project.bikeshare_analytics.test_upload'):\n",
    "    \n",
    "    '''\n",
    "    Upload table to desired location in BigQuery\n",
    "    Reference: https://cloud.google.com/bigquery/docs/samples/bigquery-load-table-dataframe\n",
    "    '''\n",
    "\n",
    "    # Set up credential\n",
    "    credentials = service_account.Credentials.from_service_account_file(path)\n",
    "\n",
    "    # Set up client and job configuration\n",
    "    client = bigquery.Client(credentials=credentials)\n",
    "    job_config = bigquery.LoadJobConfig(write_disposition=\"WRITE_APPEND\")\n",
    "\n",
    "    job = client.load_table_from_dataframe(bike_df, table_id, job_config=job_config)  # Make an API request.\n",
    "    job.result()  # Wait for the job to complete.\n",
    "\n",
    "    table = client.get_table(table_id)  # Make an API request.\n",
    "    print(\n",
    "        \"Loaded {} rows and {} columns to {}\".format(\n",
    "            table.num_rows, len(table.schema), table_id\n",
    "        )\n",
    "    )\n"
   ]
  },
  {
   "cell_type": "code",
   "execution_count": 16,
   "metadata": {},
   "outputs": [
    {
     "name": "stdout",
     "output_type": "stream",
     "text": [
      "Loaded 952 rows and 8 columns to jintaepark-portoflio-project.bikeshare_analytics.test_upload\n"
     ]
    }
   ],
   "source": [
    "upload_df_to_bigquery()"
   ]
  },
  {
   "cell_type": "code",
   "execution_count": null,
   "metadata": {},
   "outputs": [],
   "source": []
  }
 ],
 "metadata": {
  "kernelspec": {
   "display_name": "Python 3.10.4 64-bit",
   "metadata": {
    "interpreter": {
     "hash": "8bffaa356cdbcace42dcdb8c59534ff36949d0fbda2459df6bad92c25c0f79f0"
    }
   },
   "name": "python3"
  },
  "language_info": {
   "codemirror_mode": {
    "name": "ipython",
    "version": 3
   },
   "file_extension": ".py",
   "mimetype": "text/x-python",
   "name": "python",
   "nbconvert_exporter": "python",
   "pygments_lexer": "ipython3",
   "version": "3.10.4-final"
  },
  "orig_nbformat": 2
 },
 "nbformat": 4,
 "nbformat_minor": 2
}
