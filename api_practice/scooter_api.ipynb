{
 "metadata": {
  "language_info": {
   "codemirror_mode": {
    "name": "ipython",
    "version": 3
   },
   "file_extension": ".py",
   "mimetype": "text/x-python",
   "name": "python",
   "nbconvert_exporter": "python",
   "pygments_lexer": "ipython3",
   "version": "3.10.4-final"
  },
  "orig_nbformat": 2,
  "kernelspec": {
   "name": "python3",
   "display_name": "Python 3.10.4 64-bit",
   "metadata": {
    "interpreter": {
     "hash": "8bffaa356cdbcace42dcdb8c59534ff36949d0fbda2459df6bad92c25c0f79f0"
    }
   }
  }
 },
 "nbformat": 4,
 "nbformat_minor": 2,
 "cells": [
  {
   "source": [
    "Source: https://github.com/dsgermain/gbfs/blob/f76251ad4c754b62defc42562887724f287b73ea/gbfs.md#file-requirements"
   ],
   "cell_type": "markdown",
   "metadata": {}
  },
  {
   "cell_type": "code",
   "execution_count": 392,
   "metadata": {},
   "outputs": [],
   "source": [
    "# import libraries\n",
    "import requests\n",
    "import pandas as pd\n",
    "import datetime \n",
    "from google.cloud import bigquery\n",
    "from google.oauth2 import service_account\n",
    "import pytz"
   ]
  },
  {
   "cell_type": "code",
   "execution_count": 393,
   "metadata": {},
   "outputs": [],
   "source": [
    "# empty strings get list of urls\n",
    "name_list = []\n",
    "url_list = []\n",
    "\n",
    "url = \"https://mds.linkyour.city/gbfs/us_tx_austin/gbfs.json\"\n",
    "response = requests.get(url).json()\n",
    "for i in response['data']['en']['feeds']:\n",
    "    name_list.append(i['name'])\n",
    "    url_list.append(i['url'])\n",
    "\n",
    "url_df = pd.DataFrame({'name' : name_list, 'url' : url_list})\n",
    "\n",
    "try: \n",
    "    fbs_url = url_df.loc[url_df['name'] == 'free_bike_status']['url'].values[0]\n",
    "except IndexError:\n",
    "    print(f\"ERROR: free_bike_status file does not exist for the url: {url}\")\n",
    "else:\n",
    "    fbs_url = fbs_url.replace(\"'\", \"\")\n",
    "    fbs_response = requests.get(fbs_url).json()"
   ]
  },
  {
   "cell_type": "code",
   "execution_count": 394,
   "metadata": {},
   "outputs": [
    {
     "output_type": "execute_result",
     "data": {
      "text/plain": [
       "1653024997"
      ]
     },
     "metadata": {},
     "execution_count": 394
    }
   ],
   "source": [
    "fbs_response['last_updated']\n",
    "# , fbs_response['ttl']"
   ]
  },
  {
   "cell_type": "code",
   "execution_count": 395,
   "metadata": {},
   "outputs": [
    {
     "output_type": "execute_result",
     "data": {
      "text/plain": [
       "                                bike_id vehicle_type_id       lat       lon  \\\n",
       "0  c8dc417a-2d21-471f-ab26-20130a31159a               1  30.26005 -97.75451   \n",
       "1  f1e2d98c-0384-4151-b2b4-eff24d4ad362               1  30.29068 -97.74294   \n",
       "2  86d16290-e3fc-44a4-9974-50bdf5f7f279               1  30.24772 -97.73359   \n",
       "3  11fa32b8-f392-430f-863f-01ae94ec94fa               1  30.25688 -97.74669   \n",
       "4  391726be-4841-4482-a698-c82a943815c2               1  30.26365 -97.74452   \n",
       "\n",
       "   is_reserved  is_disabled                       pricing_plan_id  \\\n",
       "0        False        False  9ff58a49-0549-48e3-b57c-d7cf2c453704   \n",
       "1        False        False  9ff58a49-0549-48e3-b57c-d7cf2c453704   \n",
       "2        False        False  9ff58a49-0549-48e3-b57c-d7cf2c453704   \n",
       "3        False        False  9ff58a49-0549-48e3-b57c-d7cf2c453704   \n",
       "4        False        False  9ff58a49-0549-48e3-b57c-d7cf2c453704   \n",
       "\n",
       "          last_updated  \n",
       "0  2022-05-20 00:36:37  \n",
       "1  2022-05-20 00:36:37  \n",
       "2  2022-05-20 00:36:37  \n",
       "3  2022-05-20 00:36:37  \n",
       "4  2022-05-20 00:36:37  "
      ],
      "text/html": "<div>\n<style scoped>\n    .dataframe tbody tr th:only-of-type {\n        vertical-align: middle;\n    }\n\n    .dataframe tbody tr th {\n        vertical-align: top;\n    }\n\n    .dataframe thead th {\n        text-align: right;\n    }\n</style>\n<table border=\"1\" class=\"dataframe\">\n  <thead>\n    <tr style=\"text-align: right;\">\n      <th></th>\n      <th>bike_id</th>\n      <th>vehicle_type_id</th>\n      <th>lat</th>\n      <th>lon</th>\n      <th>is_reserved</th>\n      <th>is_disabled</th>\n      <th>pricing_plan_id</th>\n      <th>last_updated</th>\n    </tr>\n  </thead>\n  <tbody>\n    <tr>\n      <th>0</th>\n      <td>c8dc417a-2d21-471f-ab26-20130a31159a</td>\n      <td>1</td>\n      <td>30.26005</td>\n      <td>-97.75451</td>\n      <td>False</td>\n      <td>False</td>\n      <td>9ff58a49-0549-48e3-b57c-d7cf2c453704</td>\n      <td>2022-05-20 00:36:37</td>\n    </tr>\n    <tr>\n      <th>1</th>\n      <td>f1e2d98c-0384-4151-b2b4-eff24d4ad362</td>\n      <td>1</td>\n      <td>30.29068</td>\n      <td>-97.74294</td>\n      <td>False</td>\n      <td>False</td>\n      <td>9ff58a49-0549-48e3-b57c-d7cf2c453704</td>\n      <td>2022-05-20 00:36:37</td>\n    </tr>\n    <tr>\n      <th>2</th>\n      <td>86d16290-e3fc-44a4-9974-50bdf5f7f279</td>\n      <td>1</td>\n      <td>30.24772</td>\n      <td>-97.73359</td>\n      <td>False</td>\n      <td>False</td>\n      <td>9ff58a49-0549-48e3-b57c-d7cf2c453704</td>\n      <td>2022-05-20 00:36:37</td>\n    </tr>\n    <tr>\n      <th>3</th>\n      <td>11fa32b8-f392-430f-863f-01ae94ec94fa</td>\n      <td>1</td>\n      <td>30.25688</td>\n      <td>-97.74669</td>\n      <td>False</td>\n      <td>False</td>\n      <td>9ff58a49-0549-48e3-b57c-d7cf2c453704</td>\n      <td>2022-05-20 00:36:37</td>\n    </tr>\n    <tr>\n      <th>4</th>\n      <td>391726be-4841-4482-a698-c82a943815c2</td>\n      <td>1</td>\n      <td>30.26365</td>\n      <td>-97.74452</td>\n      <td>False</td>\n      <td>False</td>\n      <td>9ff58a49-0549-48e3-b57c-d7cf2c453704</td>\n      <td>2022-05-20 00:36:37</td>\n    </tr>\n  </tbody>\n</table>\n</div>"
     },
     "metadata": {},
     "execution_count": 395
    }
   ],
   "source": [
    "bike_dict = fbs_response['data']['bikes']\n",
    "bike_df = pd.DataFrame.from_dict(bike_dict)\n",
    "\n",
    "last_updated = datetime.datetime.fromtimestamp(int(fbs_response['last_updated'])).strftime('%Y-%m-%d %H:%M:%S')\n",
    "bike_df['last_updated'] = last_updated\n",
    "bike_df.head()"
   ]
  },
  {
   "cell_type": "code",
   "execution_count": 397,
   "metadata": {},
   "outputs": [
    {
     "output_type": "stream",
     "name": "stdout",
     "text": [
      "Loaded 959 rows and 8 columns to jintaepark-portoflio-project.bikeshare_analytics.test_upload\n"
     ]
    }
   ],
   "source": [
    "# Reference: https://cloud.google.com/bigquery/docs/samples/bigquery-load-table-dataframe\n",
    "\n",
    "# Construct a BigQuery client object.\n",
    "path = r'C:\\Users\\jintp\\Documents\\GitHub\\Data-Science-Codes\\api_practice\\auth\\bikeshare_analytics_bq.json'\n",
    "credentials = service_account.Credentials.from_service_account_file(path)\n",
    "table_id = 'jintaepark-portoflio-project.bikeshare_analytics.test_upload'\n",
    "\n",
    "client = bigquery.Client(credentials=credentials)\n",
    "job_config = bigquery.LoadJobConfig(write_disposition=\"WRITE_TRUNCATE\")\n",
    "\n",
    "job = client.load_table_from_dataframe(bike_df, table_id, job_config=job_config)  # Make an API request.\n",
    "job.result()  # Wait for the job to complete.\n",
    "\n",
    "table = client.get_table(table_id)  # Make an API request.\n",
    "print(\n",
    "    \"Loaded {} rows and {} columns to {}\".format(\n",
    "        table.num_rows, len(table.schema), table_id\n",
    "    )\n",
    ")"
   ]
  },
  {
   "cell_type": "code",
   "execution_count": null,
   "metadata": {},
   "outputs": [],
   "source": []
  }
 ]
}